{
 "cells": [
  {
   "cell_type": "code",
   "execution_count": 1,
   "id": "9fb33fba-b644-45b5-bf80-8e58763ce2b6",
   "metadata": {},
   "outputs": [],
   "source": [
    "# Import libraries\n",
    "\n",
    "from bs4 import BeautifulSoup\n",
    "import requests\n",
    "import time\n",
    "import datetime\n",
    "import smtplib\n",
    "\n"
   ]
  },
  {
   "cell_type": "code",
   "execution_count": 2,
   "id": "8708d414-5fc1-4451-ac10-814e10ea571f",
   "metadata": {},
   "outputs": [],
   "source": [
    "# Connect to website and pull in data\n",
    "URL = 'https://www.amazon.com/Amazfit-Fitness-Super-Light-Measurement-Monitoring/dp/B08PCYKXV5/ref=sr_1_18?keywords=activity%2Btrackers%2Band%2Bsmartwatches&pd_rd_r=fdb864bb-5468-4ec0-a30c-9b5de24019cd&pd_rd_w=BJx0e&pd_rd_wg=7Hi4k&pf_rd_p=33f8f65b-b95c-44af-8b89-e59e69e79828&pf_rd_r=0KGWCZJPK0Z9M66CEE9G&qid=1670897393&sr=8-18&th=1'"
   ]
  },
  {
   "cell_type": "code",
   "execution_count": 3,
   "id": "bef6b9a6-0295-4ab9-b702-ad7eea9c4783",
   "metadata": {},
   "outputs": [],
   "source": [
    "# Headers for request\n",
    "headers = ({\"User-Agent\": \"Mozilla/5.0 (Windows NT 10.0; Win64; x64) AppleWebKit/537.36 (KHTML, like Gecko) Chrome/108.0.0.0 Safari/537.36\", \"Accept-Language\": \"en-US, en;q=0.5\"})"
   ]
  },
  {
   "cell_type": "code",
   "execution_count": 4,
   "id": "5eaafe3e-eb0a-49bd-9496-d3a686201df3",
   "metadata": {},
   "outputs": [],
   "source": [
    "# Http request\n",
    "webpage = requests.get(URL, headers = headers)"
   ]
  },
  {
   "cell_type": "code",
   "execution_count": 5,
   "id": "e929e7fd-4756-436a-8c63-8f96af6b60b2",
   "metadata": {},
   "outputs": [],
   "source": [
    "# Soup object containing all data\n",
    "soup = BeautifulSoup(webpage.content, \"html.parser\")"
   ]
  },
  {
   "cell_type": "code",
   "execution_count": 6,
   "id": "d5ed9bb3-0280-4081-90fa-392189093896",
   "metadata": {},
   "outputs": [],
   "source": [
    "title = soup.find(\"span\", attrs={'id': 'productTitle'}).text.strip()"
   ]
  },
  {
   "cell_type": "code",
   "execution_count": 7,
   "id": "a15bddda-cdbc-45f2-bac7-fbd51584dc34",
   "metadata": {},
   "outputs": [
    {
     "name": "stdout",
     "output_type": "stream",
     "text": [
      "Amazfit GTS 2 Mini Smart Watch for Men Android iPhone, Alexa Built-in, 14-Day Battery Life, Fitness Tracker with GPS & 70+ Sports Modes, Blood Oxygen Heart Rate Monitor, 5 ATM Water Resistant-Black\n"
     ]
    }
   ],
   "source": [
    "print(title)"
   ]
  },
  {
   "cell_type": "code",
   "execution_count": 8,
   "id": "cddf92a3-b9b0-4458-af4b-9c5155adeea8",
   "metadata": {},
   "outputs": [],
   "source": [
    "price = soup.find(\"span\", attrs={'class': 'a-price aok-align-center'}).find(\"span\", attrs={'class': 'a-offscreen'}).text.strip()[1:]"
   ]
  },
  {
   "cell_type": "code",
   "execution_count": 9,
   "id": "edd13d72-db52-4e27-99d1-be35fbef716b",
   "metadata": {},
   "outputs": [
    {
     "name": "stdout",
     "output_type": "stream",
     "text": [
      "99.99\n"
     ]
    }
   ],
   "source": [
    "print(price)"
   ]
  },
  {
   "cell_type": "code",
   "execution_count": 10,
   "id": "f10fe69b-b7c1-4544-ad43-64d29e7a6811",
   "metadata": {},
   "outputs": [
    {
     "name": "stdout",
     "output_type": "stream",
     "text": [
      "2022-12-13\n"
     ]
    }
   ],
   "source": [
    "# Create a Timestamp for your output to track when data was collected\n",
    "\n",
    "import datetime\n",
    "\n",
    "today = datetime.date.today()\n",
    "\n",
    "print(today)"
   ]
  },
  {
   "cell_type": "code",
   "execution_count": 11,
   "id": "83f51ad7-1bf9-4a08-9e83-462c183d1060",
   "metadata": {},
   "outputs": [],
   "source": [
    "# Create CSV and write headers and data into the file\n",
    "\n",
    "import csv \n",
    "\n",
    "header = ['Title', 'Price', 'Date']\n",
    "data = [title, price, today]\n",
    "\n",
    "with open('AmazonWebScraperDataset.csv', 'w', newline='', encoding='UTF8') as f:\n",
    "    writer = csv.writer(f)\n",
    "    writer.writerow(header)\n",
    "    writer.writerow(data)"
   ]
  },
  {
   "cell_type": "code",
   "execution_count": 12,
   "id": "8306a552-c42c-4699-b022-422d8b248aa0",
   "metadata": {},
   "outputs": [
    {
     "name": "stdout",
     "output_type": "stream",
     "text": [
      "                                               Title  Price        Date\n",
      "0  Amazfit GTS 2 Mini Smart Watch for Men Android...  99.99  2022-12-13\n"
     ]
    }
   ],
   "source": [
    "import pandas as pd\n",
    "\n",
    "df = pd.read_csv(r'D:\\AmazonWebScraperDataset.csv')\n",
    "\n",
    "print(df)\n"
   ]
  },
  {
   "cell_type": "code",
   "execution_count": 13,
   "id": "0914dc98-57d9-4630-ac0f-2ce2601c8150",
   "metadata": {},
   "outputs": [],
   "source": [
    "#Now we are appending data to the csv\n",
    "\n",
    "with open('AmazonWebScraperDataset.csv', 'a+', newline='', encoding='UTF8') as f:\n",
    "    writer = csv.writer(f)\n",
    "    writer.writerow(data)"
   ]
  },
  {
   "cell_type": "code",
   "execution_count": 14,
   "id": "fc4686d0-25eb-4794-9817-0a45bf29790e",
   "metadata": {},
   "outputs": [],
   "source": [
    "#Combine all of the above code into one function\n",
    "\n",
    "\n",
    "def check_price():\n",
    "    URL = 'https://www.amazon.com/Amazfit-Fitness-Super-Light-Measurement-Monitoring/dp/B08PCYKXV5/ref=sr_1_18?keywords=activity%2Btrackers%2Band%2Bsmartwatches&pd_rd_r=fdb864bb-5468-4ec0-a30c-9b5de24019cd&pd_rd_w=BJx0e&pd_rd_wg=7Hi4k&pf_rd_p=33f8f65b-b95c-44af-8b89-e59e69e79828&pf_rd_r=0KGWCZJPK0Z9M66CEE9G&qid=1670897393&sr=8-18&th=1'\n",
    "    \n",
    "    headers = ({\"User-Agent\": \"Mozilla/5.0 (Windows NT 10.0; Win64; x64) AppleWebKit/537.36 (KHTML, like Gecko) Chrome/108.0.0.0 Safari/537.36\", \"Accept-Language\": \"en-US, en;q=0.5\"})\n",
    "    \n",
    "    webpage = requests.get(URL, headers = headers)\n",
    "    \n",
    "    soup = BeautifulSoup(webpage.content, \"html.parser\")\n",
    "    \n",
    "    title = soup.find(\"span\", attrs={'id': 'productTitle'}).text.strip()\n",
    "    \n",
    "    price = soup.find(\"span\", attrs={'class': 'a-price aok-align-center'}).find(\"span\", attrs={'class': 'a-offscreen'}).text.strip()[1:]\n",
    "    \n",
    "    print(title)\n",
    "    print(price)\n",
    "    \n",
    "    import datetime\n",
    "\n",
    "    today = datetime.date.today()\n",
    "    \n",
    "    import csv \n",
    "\n",
    "    header = ['Title', 'Price', 'Date']\n",
    "    data = [title, price, today]\n",
    "    \n",
    "    with open('AmazonWebScraperDataset.csv', 'a+', newline='', encoding='UTF8') as f:\n",
    "        writer = csv.writer(f)\n",
    "        writer.writerow(data)\n"
   ]
  },
  {
   "cell_type": "code",
   "execution_count": null,
   "id": "582bddea-2a43-4855-acc2-585eae5eb288",
   "metadata": {
    "tags": []
   },
   "outputs": [],
   "source": [
    "# Runs check_price after a set time and inputs data into your CSV\n",
    "\n",
    "while(True):\n",
    "    check_price()\n",
    "    time.sleep(86400)"
   ]
  },
  {
   "cell_type": "code",
   "execution_count": null,
   "id": "ade1357e-0a3c-4f23-9b70-ee59c74a5cc3",
   "metadata": {},
   "outputs": [],
   "source": [
    "import pandas as pd\n",
    "\n",
    "df = pd.read_csv(r'D:\\AmazonWebScraperDataset.csv')\n",
    "\n",
    "print(df)"
   ]
  },
  {
   "cell_type": "code",
   "execution_count": null,
   "id": "7218dc8b-e0be-4e1f-90a7-4f99fdabd471",
   "metadata": {},
   "outputs": [],
   "source": [
    "# If uou want to try sending yourself an email (just for fun) when a price hits below a certain level you can try it\n",
    "\n",
    "\n",
    "def send_mail():\n",
    "    server = smtplib.SMTP_SSL('smtp.gmail.com',465)\n",
    "    server.ehlo()\n",
    "    #server.starttls()\n",
    "    server.ehlo()\n",
    "    server.login('vinhthanh.work@gmail.com','password')\n",
    "    \n",
    "    subject = \"The Shirt you want is below $15! Now is your chance to buy!\"\n",
    "    body = \"Thanh, This is the moment we have been waiting for. Now is your chance to pick up the shirt of your dreams. Don't mess it up! Link here: https://www.amazon.com/Amazfit-Fitness-Super-Light-Measurement-Monitoring/dp/B08PCYKXV5/ref=sr_1_18?keywords=activity%2Btrackers%2Band%2Bsmartwatches&pd_rd_r=fdb864bb-5468-4ec0-a30c-9b5de24019cd&pd_rd_w=BJx0e&pd_rd_wg=7Hi4k&pf_rd_p=33f8f65b-b95c-44af-8b89-e59e69e79828&pf_rd_r=0KGWCZJPK0Z9M66CEE9G&qid=1670897393&sr=8-18&th=1\"\n",
    "   \n",
    "    msg = f\"Subject: {subject}\\n\\n{body}\"\n",
    "    \n",
    "    server.sendmail(\n",
    "        'vinhthanh.work@gmail.com',\n",
    "        msg\n",
    "     \n",
    "    )"
   ]
  }
 ],
 "metadata": {
  "kernelspec": {
   "display_name": "Python 3 (ipykernel)",
   "language": "python",
   "name": "python3"
  },
  "language_info": {
   "codemirror_mode": {
    "name": "ipython",
    "version": 3
   },
   "file_extension": ".py",
   "mimetype": "text/x-python",
   "name": "python",
   "nbconvert_exporter": "python",
   "pygments_lexer": "ipython3",
   "version": "3.9.13"
  }
 },
 "nbformat": 4,
 "nbformat_minor": 5
}
